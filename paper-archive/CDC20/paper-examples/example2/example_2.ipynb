{
 "cells": [
  {
   "cell_type": "markdown",
   "metadata": {},
   "source": [
    "In this notebook, we compute ellipsoidal controlled invariant sets using the method proposed in [LB18].\n",
    "\n",
    "[LB18] B. Legat, P. Tabuada, R. M. Jungers. Computing controlled invariant sets for hybrid systems with applications to model-predictive control, IFAC-PapersOnLine, Volume 51, Issue 16, 2018, Pages 193-198, ISSN 2405-8963.\n",
    "\n",
    "The original code of [LB18] can be found in the following [github repository](https://github.com/blegat/SwitchOnSafety.jl)."
   ]
  },
  {
   "cell_type": "markdown",
   "metadata": {},
   "source": [
    "We begin by formulating the problem."
   ]
  },
  {
   "cell_type": "code",
   "execution_count": 2,
   "metadata": {},
   "outputs": [
    {
     "name": "stderr",
     "output_type": "stream",
     "text": [
      "┌ Info: Recompiling stale cache file /Users/j10/.julia/compiled/v1.0/MosekTools/UJwlm.ji for MosekTools [1ec41992-ff65-5c91-ac43-2df89e9693a4]\n",
      "└ @ Base loading.jl:1190\n",
      "┌ Info: Recompiling stale cache file /Users/j10/.julia/compiled/v1.0/JuMP/DmXqY.ji for JuMP [4076af6c-e467-56ae-b986-b466b2749572]\n",
      "└ @ Base loading.jl:1190\n",
      "┌ Info: Recompiling stale cache file /Users/j10/.julia/compiled/v1.0/Polyhedra/17i4E.ji for Polyhedra [67491407-f73d-577b-9b50-8179a7c68029]\n",
      "└ @ Base loading.jl:1190\n",
      "WARNING: using Polyhedra.volume in module Main conflicts with an existing identifier.\n",
      "┌ Info: Recompiling stale cache file /Users/j10/.julia/compiled/v1.0/MathematicalSystems/6oLdk.ji for MathematicalSystems [d14a8603-c872-5ed3-9ece-53e0e82e39da]\n",
      "└ @ Base loading.jl:1190\n",
      "┌ Info: Recompiling stale cache file /Users/j10/.julia/compiled/v1.0/SwitchOnSafety/EUPLd.ji for SwitchOnSafety [ceb7f16a-07bf-5f4a-9354-b68f01b1610f]\n",
      "└ @ Base loading.jl:1190\n"
     ]
    },
    {
     "data": {
      "text/plain": [
       "ConstrainedLinearControlDiscreteSystem{Float64,Array{Float64,2},Array{Float64,2},DefaultPolyhedron{Float64,MixedMatHRep{Float64,Array{Float64,2}},MixedMatVRep{Float64,Array{Float64,2}}},Interval{Float64,StaticArrays.SArray{Tuple{1},Float64,1,1},StaticArrays.Size{(1,)}}}([1.0 0.1 3.0 0.0; 0.0 0.531717 0.0 -2.98088; 0.0 0.0 1.0 0.1; 0.0 0.0136242 0.0 0.404398], [0.0; 8.06061; 0.0; 6.37711], HalfSpace([1.0, 0.0, 0.0, 0.0], 0.9) ∩ HalfSpace([-1.0, 0.0, 0.0, 0.0], 0.9) ∩ HalfSpace([0.0, 1.0, 0.0, 0.0], 1.2) ∩ HalfSpace([0.0, -1.0, 0.0, 0.0], 1.2) ∩ HalfSpace([0.0, 0.0, 1.0, 0.0], 0.05) ∩ HalfSpace([0.0, 0.0, -1.0, 0.0], 0.05) ∩ HalfSpace([0.0, 0.0, 0.0, 1.0], 0.3) ∩ HalfSpace([0.0, 0.0, 0.0, -1.0], 0.3), HalfSpace([1.0], 1.5707963267948966) ∩ HalfSpace([-1.0], 1.5707963267948966) : convexhull([1.5708], [-1.5708]))"
      ]
     },
     "execution_count": 2,
     "metadata": {},
     "output_type": "execute_result"
    }
   ],
   "source": [
    "# Load dependencies:\n",
    "using MosekTools\n",
    "using JuMP\n",
    "using Polyhedra\n",
    "using MathematicalSystems\n",
    "using SwitchOnSafety\n",
    "using LinearAlgebra\n",
    "\n",
    "# Choose solver:\n",
    "solver = with_optimizer(Mosek.Optimizer, QUIET=true)\n",
    "\n",
    "# Vehicle parameters\n",
    "C_af = 133000\n",
    "C_ar = 98800\n",
    "m = 1650\n",
    "u = 30\n",
    "b = 1.59\n",
    "Iz = 2315\n",
    "a = 1.11\n",
    "steer_max = pi/2 \n",
    "steer_min = -pi/2\n",
    "\n",
    "# Continuous dynamics:\n",
    "Ao = [  0                      1 u                            0\n",
    "        0     -(C_af+C_ar)/(m*u) 0    (b*C_ar - a*C_af)/(m*u)-u\n",
    "        0                      0 0                            1\n",
    "        0 (b*C_ar-a*C_af)/(Iz*u) 0 -(a^2*C_af + b^2*C_ar)/(Iz*u)]\n",
    "\n",
    "Bo = reshape([0, C_af/m, 0, a*C_af/Iz],4,1)\n",
    "\n",
    "# Discretize using forward Euler method:\n",
    "Ts = 0.1\n",
    "\n",
    "A = Diagonal([1,1,1,1]) + Ao*Ts\n",
    "B = Bo*Ts\n",
    "\n",
    "\n",
    "# Safe Set:\n",
    "G =[ 1     0     0     0\n",
    "    -1     0     0     0\n",
    "     0     1     0     0\n",
    "     0    -1     0     0\n",
    "     0     0     1     0\n",
    "     0     0    -1     0\n",
    "     0     0     0     1\n",
    "     0     0     0    -1]\n",
    "F = [0.9\n",
    "     0.9\n",
    "     1.2\n",
    "     1.2\n",
    "     0.05\n",
    "     0.05\n",
    "     0.3\n",
    "     0.3]\n",
    "safe_set = polyhedron(hrep(G, F), DefaultLibrary{Float64}(solver))\n",
    "\n",
    "# Input Constraints:\n",
    "input_set = polyhedron(convexhull([steer_min], [steer_max]))\n",
    "\n",
    "system = ConstrainedLinearControlDiscreteSystem(A,B,safe_set,input_set)"
   ]
  },
  {
   "cell_type": "markdown",
   "metadata": {},
   "source": [
    "Compute the invariant set by searching for any ellipsoid with a given point in its interior.\n",
    "As the system is reformulated into an algebraic system with safe set `safe_set * input_set`, the Chebyshev center is `(cheby_center, 0)`.\n",
    "\n",
    "To avoid having to solve Bilinear Matrix Inequalities, we set the S-procedure scaling to `1.01` (found by a few trials, checking what gives the best `objective_value`)."
   ]
  },
  {
   "cell_type": "code",
   "execution_count": 89,
   "metadata": {},
   "outputs": [
    {
     "name": "stdout",
     "output_type": "stream",
     "text": [
      "MOI.get(model, MOI.SolveTime()) = 0.014314889907836914\n",
      "JuMP.termination_status(model) = OPTIMAL::TerminationStatusCode = 1\n",
      "JuMP.primal_status(model) = FEASIBLE_POINT::ResultStatusCode = 1\n",
      "JuMP.dual_status(model) = FEASIBLE_POINT::ResultStatusCode = 1\n",
      "JuMP.objective_value(model) = 2.801672109673336e-10\n",
      "  0.048703 seconds (47.09 k allocations: 3.273 MiB, 19.48% gc time)\n",
      "SetProg.Sets.Translation{SetProg.Sets.Polar{Float64,SetProg.Sets.EllipsoidAtOrigin{Float64}},Float64,Array{Float64,1}}(SetProg.Sets.Polar{Float64,SetProg.Sets.EllipsoidAtOrigin{Float64}}(SetProg.Sets.EllipsoidAtOrigin{Float64}([0.00408553 -0.0407022 -0.00047582 -0.00764556; -0.0407022 1.4003 -0.00571605 0.278037; -0.00047582 -0.00571605 0.000936106 -0.00139195; -0.00764556 0.278037 -0.00139195 0.0831464])), [0.88782, 0.00581124, 0.00124382, 0.00892831])"
     ]
    }
   ],
   "source": [
    "# Compute controlled invariant maximum volume ellipsoid inside the safe set:\n",
    "\n",
    "# Begin timing here:\n",
    "@time begin\n",
    "    # S-procedure constant:\n",
    "    S_procedure_scaling = 1.01\n",
    "    # Center of ellipsoid:\n",
    "    cheby_center, cheby_radius = chebyshevcenter(safe_set, solver)\n",
    "    cntr = [cheby_center; 0.0]\n",
    "    # cntr = [0.0;0.0;0.0]\n",
    "\n",
    "    using SwitchOnSafety\n",
    "    variable = Ellipsoid(point = SetProg.InteriorPoint(cntr))\n",
    "    max_vol_ell = invariant_set(system, solver, variable, λ = S_procedure_scaling)\n",
    "end\n",
    "\n",
    "show(max_vol_ell)"
   ]
  },
  {
   "cell_type": "code",
   "execution_count": 90,
   "metadata": {},
   "outputs": [
    {
     "name": "stdout",
     "output_type": "stream",
     "text": [
      "0.0012370726044621107"
     ]
    }
   ],
   "source": [
    "# Load dependencies:\n",
    "using LinearAlgebra\n",
    "using SpecialFunctions\n",
    "\n",
    "# Computed ellipsoid above has:\n",
    "E = [0.00408553 -0.0407022 -0.00047582 -0.00764556\n",
    "    -0.0407022 1.4003 -0.00571605 0.278037\n",
    "    -0.00047582 -0.00571605 0.000936106 -0.00139195\n",
    "    -0.00764556 0.278037 -0.00139195 0.0831464]\n",
    "\n",
    "# E = [ 0.00322526  -0.0307753 -0.000335552 -0.003349 \n",
    "#      -0.0307753    1.37073   -0.0100246    0.216396 \n",
    "#      -0.000335552 -0.0100246  0.000498443 -0.00201246\n",
    "#      -0.003349     0.216396  -0.00201246   0.0554606]\n",
    "\n",
    "singVal = sqrt.(eigvals(E))\n",
    "\n",
    "volume = pi^(3/2)*prod(singVal)/gamma(3/2+1)\n",
    "\n",
    "show(volume)"
   ]
  },
  {
   "cell_type": "code",
   "execution_count": null,
   "metadata": {},
   "outputs": [],
   "source": []
  }
 ],
 "metadata": {
  "kernelspec": {
   "display_name": "Julia 1.0.5",
   "language": "julia",
   "name": "julia-1.0"
  },
  "language_info": {
   "file_extension": ".jl",
   "mimetype": "application/julia",
   "name": "julia",
   "version": "1.0.5"
  }
 },
 "nbformat": 4,
 "nbformat_minor": 2
}
